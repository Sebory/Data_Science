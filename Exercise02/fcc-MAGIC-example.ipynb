{
  "cells": [
    {
      "cell_type": "code",
      "source": [
        "# !git clone https://github.com/Sebory/Data_Science.git"
      ],
      "metadata": {
        "id": "FWPpV9r-yXqU"
      },
      "id": "FWPpV9r-yXqU",
      "execution_count": 19,
      "outputs": []
    },
    {
      "cell_type": "code",
      "execution_count": 20,
      "id": "5efa3be9-e363-40c2-a6cd-bafa2875bedd",
      "metadata": {
        "id": "5efa3be9-e363-40c2-a6cd-bafa2875bedd"
      },
      "outputs": [],
      "source": [
        "import numpy as np\n",
        "import pandas as pd\n",
        "import matplotlib.pyplot as plt\n",
        "from sklearn.preprocessing import StandardScaler\n",
        "from imblearn.over_sampling import RandomOverSampler\n"
      ]
    },
    {
      "cell_type": "code",
      "execution_count": 21,
      "id": "485dfeae-3c09-4cfd-ad45-a97eb119adee",
      "metadata": {
        "id": "485dfeae-3c09-4cfd-ad45-a97eb119adee"
      },
      "outputs": [],
      "source": [
        "cols = [\"fkengh\", \"fWidth\", \"fSize\", \"fConc\", \"fConc1\", \"fAsym\", \"fM3Long\", \"fM3Trans\", \"Alpha\", \"fDist\", \"class\"]"
      ]
    },
    {
      "cell_type": "code",
      "execution_count": 22,
      "id": "b273b127-5eb6-4832-9c3a-a65c460a547b",
      "metadata": {
        "id": "b273b127-5eb6-4832-9c3a-a65c460a547b",
        "outputId": "b27d9650-6272-44e6-eb37-f4689064c007",
        "colab": {
          "base_uri": "https://localhost:8080/",
          "height": 206
        }
      },
      "outputs": [
        {
          "output_type": "execute_result",
          "data": {
            "text/plain": [
              "     fkengh    fWidth   fSize   fConc  fConc1     fAsym  fM3Long  fM3Trans  \\\n",
              "0   28.7967   16.0021  2.6449  0.3918  0.1982   27.7004  22.0110   -8.2027   \n",
              "1   31.6036   11.7235  2.5185  0.5303  0.3773   26.2722  23.8238   -9.9574   \n",
              "2  162.0520  136.0310  4.0612  0.0374  0.0187  116.7410 -64.8580  -45.2160   \n",
              "3   23.8172    9.5728  2.3385  0.6147  0.3922   27.2107  -6.4633   -7.1513   \n",
              "4   75.1362   30.9205  3.1611  0.3168  0.1832   -5.5277  28.5525   21.8393   \n",
              "\n",
              "     Alpha     fDist class  \n",
              "0  40.0920   81.8828     g  \n",
              "1   6.3609  205.2610     g  \n",
              "2  76.9600  256.7880     g  \n",
              "3  10.4490  116.7370     g  \n",
              "4   4.6480  356.4620     g  "
            ],
            "text/html": [
              "\n",
              "  <div id=\"df-055e32b8-e108-4c4b-8fc1-aedb28087307\">\n",
              "    <div class=\"colab-df-container\">\n",
              "      <div>\n",
              "<style scoped>\n",
              "    .dataframe tbody tr th:only-of-type {\n",
              "        vertical-align: middle;\n",
              "    }\n",
              "\n",
              "    .dataframe tbody tr th {\n",
              "        vertical-align: top;\n",
              "    }\n",
              "\n",
              "    .dataframe thead th {\n",
              "        text-align: right;\n",
              "    }\n",
              "</style>\n",
              "<table border=\"1\" class=\"dataframe\">\n",
              "  <thead>\n",
              "    <tr style=\"text-align: right;\">\n",
              "      <th></th>\n",
              "      <th>fkengh</th>\n",
              "      <th>fWidth</th>\n",
              "      <th>fSize</th>\n",
              "      <th>fConc</th>\n",
              "      <th>fConc1</th>\n",
              "      <th>fAsym</th>\n",
              "      <th>fM3Long</th>\n",
              "      <th>fM3Trans</th>\n",
              "      <th>Alpha</th>\n",
              "      <th>fDist</th>\n",
              "      <th>class</th>\n",
              "    </tr>\n",
              "  </thead>\n",
              "  <tbody>\n",
              "    <tr>\n",
              "      <th>0</th>\n",
              "      <td>28.7967</td>\n",
              "      <td>16.0021</td>\n",
              "      <td>2.6449</td>\n",
              "      <td>0.3918</td>\n",
              "      <td>0.1982</td>\n",
              "      <td>27.7004</td>\n",
              "      <td>22.0110</td>\n",
              "      <td>-8.2027</td>\n",
              "      <td>40.0920</td>\n",
              "      <td>81.8828</td>\n",
              "      <td>g</td>\n",
              "    </tr>\n",
              "    <tr>\n",
              "      <th>1</th>\n",
              "      <td>31.6036</td>\n",
              "      <td>11.7235</td>\n",
              "      <td>2.5185</td>\n",
              "      <td>0.5303</td>\n",
              "      <td>0.3773</td>\n",
              "      <td>26.2722</td>\n",
              "      <td>23.8238</td>\n",
              "      <td>-9.9574</td>\n",
              "      <td>6.3609</td>\n",
              "      <td>205.2610</td>\n",
              "      <td>g</td>\n",
              "    </tr>\n",
              "    <tr>\n",
              "      <th>2</th>\n",
              "      <td>162.0520</td>\n",
              "      <td>136.0310</td>\n",
              "      <td>4.0612</td>\n",
              "      <td>0.0374</td>\n",
              "      <td>0.0187</td>\n",
              "      <td>116.7410</td>\n",
              "      <td>-64.8580</td>\n",
              "      <td>-45.2160</td>\n",
              "      <td>76.9600</td>\n",
              "      <td>256.7880</td>\n",
              "      <td>g</td>\n",
              "    </tr>\n",
              "    <tr>\n",
              "      <th>3</th>\n",
              "      <td>23.8172</td>\n",
              "      <td>9.5728</td>\n",
              "      <td>2.3385</td>\n",
              "      <td>0.6147</td>\n",
              "      <td>0.3922</td>\n",
              "      <td>27.2107</td>\n",
              "      <td>-6.4633</td>\n",
              "      <td>-7.1513</td>\n",
              "      <td>10.4490</td>\n",
              "      <td>116.7370</td>\n",
              "      <td>g</td>\n",
              "    </tr>\n",
              "    <tr>\n",
              "      <th>4</th>\n",
              "      <td>75.1362</td>\n",
              "      <td>30.9205</td>\n",
              "      <td>3.1611</td>\n",
              "      <td>0.3168</td>\n",
              "      <td>0.1832</td>\n",
              "      <td>-5.5277</td>\n",
              "      <td>28.5525</td>\n",
              "      <td>21.8393</td>\n",
              "      <td>4.6480</td>\n",
              "      <td>356.4620</td>\n",
              "      <td>g</td>\n",
              "    </tr>\n",
              "  </tbody>\n",
              "</table>\n",
              "</div>\n",
              "      <button class=\"colab-df-convert\" onclick=\"convertToInteractive('df-055e32b8-e108-4c4b-8fc1-aedb28087307')\"\n",
              "              title=\"Convert this dataframe to an interactive table.\"\n",
              "              style=\"display:none;\">\n",
              "        \n",
              "  <svg xmlns=\"http://www.w3.org/2000/svg\" height=\"24px\"viewBox=\"0 0 24 24\"\n",
              "       width=\"24px\">\n",
              "    <path d=\"M0 0h24v24H0V0z\" fill=\"none\"/>\n",
              "    <path d=\"M18.56 5.44l.94 2.06.94-2.06 2.06-.94-2.06-.94-.94-2.06-.94 2.06-2.06.94zm-11 1L8.5 8.5l.94-2.06 2.06-.94-2.06-.94L8.5 2.5l-.94 2.06-2.06.94zm10 10l.94 2.06.94-2.06 2.06-.94-2.06-.94-.94-2.06-.94 2.06-2.06.94z\"/><path d=\"M17.41 7.96l-1.37-1.37c-.4-.4-.92-.59-1.43-.59-.52 0-1.04.2-1.43.59L10.3 9.45l-7.72 7.72c-.78.78-.78 2.05 0 2.83L4 21.41c.39.39.9.59 1.41.59.51 0 1.02-.2 1.41-.59l7.78-7.78 2.81-2.81c.8-.78.8-2.07 0-2.86zM5.41 20L4 18.59l7.72-7.72 1.47 1.35L5.41 20z\"/>\n",
              "  </svg>\n",
              "      </button>\n",
              "      \n",
              "  <style>\n",
              "    .colab-df-container {\n",
              "      display:flex;\n",
              "      flex-wrap:wrap;\n",
              "      gap: 12px;\n",
              "    }\n",
              "\n",
              "    .colab-df-convert {\n",
              "      background-color: #E8F0FE;\n",
              "      border: none;\n",
              "      border-radius: 50%;\n",
              "      cursor: pointer;\n",
              "      display: none;\n",
              "      fill: #1967D2;\n",
              "      height: 32px;\n",
              "      padding: 0 0 0 0;\n",
              "      width: 32px;\n",
              "    }\n",
              "\n",
              "    .colab-df-convert:hover {\n",
              "      background-color: #E2EBFA;\n",
              "      box-shadow: 0px 1px 2px rgba(60, 64, 67, 0.3), 0px 1px 3px 1px rgba(60, 64, 67, 0.15);\n",
              "      fill: #174EA6;\n",
              "    }\n",
              "\n",
              "    [theme=dark] .colab-df-convert {\n",
              "      background-color: #3B4455;\n",
              "      fill: #D2E3FC;\n",
              "    }\n",
              "\n",
              "    [theme=dark] .colab-df-convert:hover {\n",
              "      background-color: #434B5C;\n",
              "      box-shadow: 0px 1px 3px 1px rgba(0, 0, 0, 0.15);\n",
              "      filter: drop-shadow(0px 1px 2px rgba(0, 0, 0, 0.3));\n",
              "      fill: #FFFFFF;\n",
              "    }\n",
              "  </style>\n",
              "\n",
              "      <script>\n",
              "        const buttonEl =\n",
              "          document.querySelector('#df-055e32b8-e108-4c4b-8fc1-aedb28087307 button.colab-df-convert');\n",
              "        buttonEl.style.display =\n",
              "          google.colab.kernel.accessAllowed ? 'block' : 'none';\n",
              "\n",
              "        async function convertToInteractive(key) {\n",
              "          const element = document.querySelector('#df-055e32b8-e108-4c4b-8fc1-aedb28087307');\n",
              "          const dataTable =\n",
              "            await google.colab.kernel.invokeFunction('convertToInteractive',\n",
              "                                                     [key], {});\n",
              "          if (!dataTable) return;\n",
              "\n",
              "          const docLinkHtml = 'Like what you see? Visit the ' +\n",
              "            '<a target=\"_blank\" href=https://colab.research.google.com/notebooks/data_table.ipynb>data table notebook</a>'\n",
              "            + ' to learn more about interactive tables.';\n",
              "          element.innerHTML = '';\n",
              "          dataTable['output_type'] = 'display_data';\n",
              "          await google.colab.output.renderOutput(dataTable, element);\n",
              "          const docLink = document.createElement('div');\n",
              "          docLink.innerHTML = docLinkHtml;\n",
              "          element.appendChild(docLink);\n",
              "        }\n",
              "      </script>\n",
              "    </div>\n",
              "  </div>\n",
              "  "
            ]
          },
          "metadata": {},
          "execution_count": 22
        }
      ],
      "source": [
        "df = pd.read_csv(\"/content/Data_Science/Exercise02/magic04.data\", names=cols)\n",
        "df.head()"
      ]
    },
    {
      "cell_type": "code",
      "execution_count": 23,
      "id": "5c9251d6-7a99-4e76-88e3-d57197945352",
      "metadata": {
        "id": "5c9251d6-7a99-4e76-88e3-d57197945352"
      },
      "outputs": [],
      "source": [
        "df[\"class\"] = (df[\"class\"] == \"g\").astype(int)"
      ]
    },
    {
      "cell_type": "code",
      "execution_count": 24,
      "id": "a5aab77f-42e6-4556-b6cb-5f7499439d8f",
      "metadata": {
        "id": "a5aab77f-42e6-4556-b6cb-5f7499439d8f",
        "outputId": "bd2e6de1-3aa0-499a-8c33-c5b9382147f5",
        "colab": {
          "base_uri": "https://localhost:8080/",
          "height": 206
        }
      },
      "outputs": [
        {
          "output_type": "execute_result",
          "data": {
            "text/plain": [
              "     fkengh    fWidth   fSize   fConc  fConc1     fAsym  fM3Long  fM3Trans  \\\n",
              "0   28.7967   16.0021  2.6449  0.3918  0.1982   27.7004  22.0110   -8.2027   \n",
              "1   31.6036   11.7235  2.5185  0.5303  0.3773   26.2722  23.8238   -9.9574   \n",
              "2  162.0520  136.0310  4.0612  0.0374  0.0187  116.7410 -64.8580  -45.2160   \n",
              "3   23.8172    9.5728  2.3385  0.6147  0.3922   27.2107  -6.4633   -7.1513   \n",
              "4   75.1362   30.9205  3.1611  0.3168  0.1832   -5.5277  28.5525   21.8393   \n",
              "\n",
              "     Alpha     fDist  class  \n",
              "0  40.0920   81.8828      1  \n",
              "1   6.3609  205.2610      1  \n",
              "2  76.9600  256.7880      1  \n",
              "3  10.4490  116.7370      1  \n",
              "4   4.6480  356.4620      1  "
            ],
            "text/html": [
              "\n",
              "  <div id=\"df-3355564a-c459-411a-9198-e35e727c3318\">\n",
              "    <div class=\"colab-df-container\">\n",
              "      <div>\n",
              "<style scoped>\n",
              "    .dataframe tbody tr th:only-of-type {\n",
              "        vertical-align: middle;\n",
              "    }\n",
              "\n",
              "    .dataframe tbody tr th {\n",
              "        vertical-align: top;\n",
              "    }\n",
              "\n",
              "    .dataframe thead th {\n",
              "        text-align: right;\n",
              "    }\n",
              "</style>\n",
              "<table border=\"1\" class=\"dataframe\">\n",
              "  <thead>\n",
              "    <tr style=\"text-align: right;\">\n",
              "      <th></th>\n",
              "      <th>fkengh</th>\n",
              "      <th>fWidth</th>\n",
              "      <th>fSize</th>\n",
              "      <th>fConc</th>\n",
              "      <th>fConc1</th>\n",
              "      <th>fAsym</th>\n",
              "      <th>fM3Long</th>\n",
              "      <th>fM3Trans</th>\n",
              "      <th>Alpha</th>\n",
              "      <th>fDist</th>\n",
              "      <th>class</th>\n",
              "    </tr>\n",
              "  </thead>\n",
              "  <tbody>\n",
              "    <tr>\n",
              "      <th>0</th>\n",
              "      <td>28.7967</td>\n",
              "      <td>16.0021</td>\n",
              "      <td>2.6449</td>\n",
              "      <td>0.3918</td>\n",
              "      <td>0.1982</td>\n",
              "      <td>27.7004</td>\n",
              "      <td>22.0110</td>\n",
              "      <td>-8.2027</td>\n",
              "      <td>40.0920</td>\n",
              "      <td>81.8828</td>\n",
              "      <td>1</td>\n",
              "    </tr>\n",
              "    <tr>\n",
              "      <th>1</th>\n",
              "      <td>31.6036</td>\n",
              "      <td>11.7235</td>\n",
              "      <td>2.5185</td>\n",
              "      <td>0.5303</td>\n",
              "      <td>0.3773</td>\n",
              "      <td>26.2722</td>\n",
              "      <td>23.8238</td>\n",
              "      <td>-9.9574</td>\n",
              "      <td>6.3609</td>\n",
              "      <td>205.2610</td>\n",
              "      <td>1</td>\n",
              "    </tr>\n",
              "    <tr>\n",
              "      <th>2</th>\n",
              "      <td>162.0520</td>\n",
              "      <td>136.0310</td>\n",
              "      <td>4.0612</td>\n",
              "      <td>0.0374</td>\n",
              "      <td>0.0187</td>\n",
              "      <td>116.7410</td>\n",
              "      <td>-64.8580</td>\n",
              "      <td>-45.2160</td>\n",
              "      <td>76.9600</td>\n",
              "      <td>256.7880</td>\n",
              "      <td>1</td>\n",
              "    </tr>\n",
              "    <tr>\n",
              "      <th>3</th>\n",
              "      <td>23.8172</td>\n",
              "      <td>9.5728</td>\n",
              "      <td>2.3385</td>\n",
              "      <td>0.6147</td>\n",
              "      <td>0.3922</td>\n",
              "      <td>27.2107</td>\n",
              "      <td>-6.4633</td>\n",
              "      <td>-7.1513</td>\n",
              "      <td>10.4490</td>\n",
              "      <td>116.7370</td>\n",
              "      <td>1</td>\n",
              "    </tr>\n",
              "    <tr>\n",
              "      <th>4</th>\n",
              "      <td>75.1362</td>\n",
              "      <td>30.9205</td>\n",
              "      <td>3.1611</td>\n",
              "      <td>0.3168</td>\n",
              "      <td>0.1832</td>\n",
              "      <td>-5.5277</td>\n",
              "      <td>28.5525</td>\n",
              "      <td>21.8393</td>\n",
              "      <td>4.6480</td>\n",
              "      <td>356.4620</td>\n",
              "      <td>1</td>\n",
              "    </tr>\n",
              "  </tbody>\n",
              "</table>\n",
              "</div>\n",
              "      <button class=\"colab-df-convert\" onclick=\"convertToInteractive('df-3355564a-c459-411a-9198-e35e727c3318')\"\n",
              "              title=\"Convert this dataframe to an interactive table.\"\n",
              "              style=\"display:none;\">\n",
              "        \n",
              "  <svg xmlns=\"http://www.w3.org/2000/svg\" height=\"24px\"viewBox=\"0 0 24 24\"\n",
              "       width=\"24px\">\n",
              "    <path d=\"M0 0h24v24H0V0z\" fill=\"none\"/>\n",
              "    <path d=\"M18.56 5.44l.94 2.06.94-2.06 2.06-.94-2.06-.94-.94-2.06-.94 2.06-2.06.94zm-11 1L8.5 8.5l.94-2.06 2.06-.94-2.06-.94L8.5 2.5l-.94 2.06-2.06.94zm10 10l.94 2.06.94-2.06 2.06-.94-2.06-.94-.94-2.06-.94 2.06-2.06.94z\"/><path d=\"M17.41 7.96l-1.37-1.37c-.4-.4-.92-.59-1.43-.59-.52 0-1.04.2-1.43.59L10.3 9.45l-7.72 7.72c-.78.78-.78 2.05 0 2.83L4 21.41c.39.39.9.59 1.41.59.51 0 1.02-.2 1.41-.59l7.78-7.78 2.81-2.81c.8-.78.8-2.07 0-2.86zM5.41 20L4 18.59l7.72-7.72 1.47 1.35L5.41 20z\"/>\n",
              "  </svg>\n",
              "      </button>\n",
              "      \n",
              "  <style>\n",
              "    .colab-df-container {\n",
              "      display:flex;\n",
              "      flex-wrap:wrap;\n",
              "      gap: 12px;\n",
              "    }\n",
              "\n",
              "    .colab-df-convert {\n",
              "      background-color: #E8F0FE;\n",
              "      border: none;\n",
              "      border-radius: 50%;\n",
              "      cursor: pointer;\n",
              "      display: none;\n",
              "      fill: #1967D2;\n",
              "      height: 32px;\n",
              "      padding: 0 0 0 0;\n",
              "      width: 32px;\n",
              "    }\n",
              "\n",
              "    .colab-df-convert:hover {\n",
              "      background-color: #E2EBFA;\n",
              "      box-shadow: 0px 1px 2px rgba(60, 64, 67, 0.3), 0px 1px 3px 1px rgba(60, 64, 67, 0.15);\n",
              "      fill: #174EA6;\n",
              "    }\n",
              "\n",
              "    [theme=dark] .colab-df-convert {\n",
              "      background-color: #3B4455;\n",
              "      fill: #D2E3FC;\n",
              "    }\n",
              "\n",
              "    [theme=dark] .colab-df-convert:hover {\n",
              "      background-color: #434B5C;\n",
              "      box-shadow: 0px 1px 3px 1px rgba(0, 0, 0, 0.15);\n",
              "      filter: drop-shadow(0px 1px 2px rgba(0, 0, 0, 0.3));\n",
              "      fill: #FFFFFF;\n",
              "    }\n",
              "  </style>\n",
              "\n",
              "      <script>\n",
              "        const buttonEl =\n",
              "          document.querySelector('#df-3355564a-c459-411a-9198-e35e727c3318 button.colab-df-convert');\n",
              "        buttonEl.style.display =\n",
              "          google.colab.kernel.accessAllowed ? 'block' : 'none';\n",
              "\n",
              "        async function convertToInteractive(key) {\n",
              "          const element = document.querySelector('#df-3355564a-c459-411a-9198-e35e727c3318');\n",
              "          const dataTable =\n",
              "            await google.colab.kernel.invokeFunction('convertToInteractive',\n",
              "                                                     [key], {});\n",
              "          if (!dataTable) return;\n",
              "\n",
              "          const docLinkHtml = 'Like what you see? Visit the ' +\n",
              "            '<a target=\"_blank\" href=https://colab.research.google.com/notebooks/data_table.ipynb>data table notebook</a>'\n",
              "            + ' to learn more about interactive tables.';\n",
              "          element.innerHTML = '';\n",
              "          dataTable['output_type'] = 'display_data';\n",
              "          await google.colab.output.renderOutput(dataTable, element);\n",
              "          const docLink = document.createElement('div');\n",
              "          docLink.innerHTML = docLinkHtml;\n",
              "          element.appendChild(docLink);\n",
              "        }\n",
              "      </script>\n",
              "    </div>\n",
              "  </div>\n",
              "  "
            ]
          },
          "metadata": {},
          "execution_count": 24
        }
      ],
      "source": [
        "df.head()"
      ]
    },
    {
      "cell_type": "code",
      "execution_count": 25,
      "id": "aa701150-4dac-4eda-9a32-d7e57d185786",
      "metadata": {
        "id": "aa701150-4dac-4eda-9a32-d7e57d185786",
        "outputId": "423aa1c9-84a5-4ed1-d4e0-97dced12c2c8",
        "colab": {
          "base_uri": "https://localhost:8080/",
          "height": 1000
        }
      },
      "outputs": [
        {
          "output_type": "display_data",
          "data": {
            "text/plain": [
              "<Figure size 432x288 with 1 Axes>"
            ],
            "image/png": "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\n"
          },
          "metadata": {
            "needs_background": "light"
          }
        },
        {
          "output_type": "display_data",
          "data": {
            "text/plain": [
              "<Figure size 432x288 with 1 Axes>"
            ],
            "image/png": "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\n"
          },
          "metadata": {
            "needs_background": "light"
          }
        },
        {
          "output_type": "display_data",
          "data": {
            "text/plain": [
              "<Figure size 432x288 with 1 Axes>"
            ],
            "image/png": "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\n"
          },
          "metadata": {
            "needs_background": "light"
          }
        },
        {
          "output_type": "display_data",
          "data": {
            "text/plain": [
              "<Figure size 432x288 with 1 Axes>"
            ],
            "image/png": "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\n"
          },
          "metadata": {
            "needs_background": "light"
          }
        },
        {
          "output_type": "display_data",
          "data": {
            "text/plain": [
              "<Figure size 432x288 with 1 Axes>"
            ],
            "image/png": "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\n"
          },
          "metadata": {
            "needs_background": "light"
          }
        },
        {
          "output_type": "display_data",
          "data": {
            "text/plain": [
              "<Figure size 432x288 with 1 Axes>"
            ],
            "image/png": "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\n"
          },
          "metadata": {
            "needs_background": "light"
          }
        },
        {
          "output_type": "display_data",
          "data": {
            "text/plain": [
              "<Figure size 432x288 with 1 Axes>"
            ],
            "image/png": "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\n"
          },
          "metadata": {
            "needs_background": "light"
          }
        },
        {
          "output_type": "display_data",
          "data": {
            "text/plain": [
              "<Figure size 432x288 with 1 Axes>"
            ],
            "image/png": "iVBORw0KGgoAAAANSUhEUgAAAY4AAAEWCAYAAABxMXBSAAAABHNCSVQICAgIfAhkiAAAAAlwSFlzAAALEgAACxIB0t1+/AAAADh0RVh0U29mdHdhcmUAbWF0cGxvdGxpYiB2ZXJzaW9uMy4yLjIsIGh0dHA6Ly9tYXRwbG90bGliLm9yZy+WH4yJAAAdz0lEQVR4nO3df5RVdb3/8eeLn9ONHxqiX5IMSFKgEUNEW4r5W7xLwNQSrQSzuBflq7d7rWVf0Uzr3uhWLk1ud2kY4tWgr14MSzMN+XY1FQaEhsFA1FHHNAkRQR0VfH//2HvwOJ6ZORtmzznDvB5rnTV7f/Znf857n3U4b/bns/dnKyIwMzMrVbdyB2BmZp2LE4eZmWXixGFmZpk4cZiZWSZOHGZmlokTh5mZZeLEYVaEpIMkrZK0VdLF5Y7HrJI4cZgV903gwYjoC4yRFJImF1aQdG1aPi1dP05SraRXJW2StEjS/um2Oknb0tcOSY0F6/+nw4/ObDc4cZgV93GgrmB9PXBe04qkHsAXgKcK6qwFTomIvYCPAk8CPwWIiFER0Sci+gD/A8xsWo+If23WrllFc+Iwa0bSEuA44AZJ24BewN3A0ZL2TqtNAP4EvNS0X0T8NSL+UtDUDuDANt5rSHrWcoGk54Alafn/lfSSpC2S/iBpVME+8yTNkfSbtCvtMUmfSLcpPRN6WdJr6RnQp3b7QzEr4MRh1kxEHE/BWQHwNtAI/AqYklY7D5jffF9JB0h6FXgTuBT4QYlv+1lgBHBKun4vMBzYF1gJ3Nas/hTgO8DewAbge2n5ycAxwCeB/iRnRZtKjMGsJE4cZqWbD5wnaS+SH/q7mleIiOfSrqp9gFnAn0ts+6qIeD0i3kzbuTkitkbEW8BVwGhJ/QvqL4qIZRGxnSSpHJqWvwP0BQ4GFBFPRMSLmY/UrBVOHGYlioiHgIHA5cCvm37kW6j7CnAL8KsSxy2eb1qQ1F3S9yU9Jek1oD7dtE9B/ZcKlt8A+qTvuwS4AZgDvCzpRkn9Snh/s5I5cZhl81/Av1Ckm6qIHiRdTaX8cBdOU30uMBk4kaS7aUharlICjIjrI+IwYCRJl9U3StnPrFROHGbZXA+cBPyh+QZJZ6T3f3STNBD4MfB4evaRRV/gLZKxib8D/rX16u+L4XBJR0jqCbxOMjbzbsb3N2uVE4dZBhHxSkT8Poo/yGZ/4LfAVqCW5Af7c7vwNvOBZ4EXSC7xfTTDvv2Am4DNaRubgH/fhRjMWiQ/yMnMzLLwGYeZmWXixGFmZpk4cZiZWSZOHGZmlkmXmFBtn332iSFDhpQ7DDOzTmXFihV/i4iBzcu7ROIYMmQINTU15Q7DzKxTkfRssXJ3VZmZWSZOHGZmlokTh5mZZdIlxjjMrOt65513aGhooLGxsdyhVKyqqioGDx5Mz549S6rvxGFme7SGhgb69u3LkCFDkEqaYLhLiQg2bdpEQ0MDQ4cOLWkfd1WZ2R6tsbGRAQMGOGm0QBIDBgzIdEbmxGFmezwnjdZl/XycOMzMLBOPcZhZlzJxYvu2d/fd7dteZ+DEYdYJ7e6PX1f8sbP2464qM7OcXXPNNRx00EEcffTRnHPOOfzwhz/kpptu4vDDD2f06NGceeaZvPHGGwBMmzaNGTNmcOSRRzJs2DCWLl3KV77yFUaMGMG0adN2ttmnTx++8Y1vMGrUKE488USWLVvGsccey7Bhw1i8eDEA9fX1jB8/njFjxjBmzBj++Mc/tsvxOHGYmeVo+fLl3HnnnaxevZp7771357x5Z5xxBsuXL2f16tWMGDGCuXPn7txn8+bNPPLII1x77bVMmjSJr3/969TV1VFbW8uqVasAeP311zn++OOpq6ujb9++zJo1i/vvv59FixZx5ZVXArDvvvty//33s3LlShYuXMjFF1/cLsfkriozsxw9/PDDTJ48maqqKqqqqpiY9jOuWbOGWbNm8eqrr7Jt2zZOOeWUnftMnDgRSVRXV7PffvtRXV0NwKhRo6ivr+fQQw+lV69eTJgwAYDq6mp69+5Nz549qa6upr6+Hkhufpw5cyarVq2ie/furF+/vl2OyYnDrEzae5DWOpdp06Zx1113MXr0aObNm8fSpUt3buvduzcA3bp127nctL59+3YAevbsufMy2sJ6hXWuvfZa9ttvP1avXs27775LVVVVu8TuriozsxwdddRR3H333TQ2NrJt2zZ+/etfA7B161YGDRrEO++8w2233ZbLe2/ZsoVBgwbRrVs3br31Vnbs2NEu7fqMw8y6lI6+ouzwww9n0qRJHHLIITu7nfr3788111zDEUccwcCBAzniiCPYunVru7/3hRdeyJlnnsn8+fOZMGECH/7wh9ulXUVEuzRUycaOHRt+kJNVmnJ2VXWly3GfeOIJRowYUdYYtm3bRp8+fXjjjTc45phjuPHGGxkzZkxZY2qu2OckaUVEjG1e12ccZmY5mz59OmvXrqWxsZGpU6dWXNLIyonDzCxnt99+e7lDaFceHDczs0ycOMzMLBMnDjMzy8SJw8zMMvHguJl1LWWYV72+vp7TTjuNNWvW7NJb9OnTh23btu3SvnnwGYeZWSfUNK1IOThxmJl1gB07dvC1r32NUaNGcfLJJ/Pmm2+2OLX6M888w2c+8xmqq6uZNWvWzjaWLl3K+PHjmTRpEiNHjqSxsZHzzz+f6upqPv3pT/Pggw8CMG/ePM444wwmTJjA8OHD+eY3v9mux5Jr4pA0QdI6SRskXVZke29JC9Ptj0kakpafJGmFpNr07/EF+xyWlm+QdL38MGEz6wSefPJJLrroIurq6thrr7248847W5xa/ZJLLmHGjBnU1tYyaNCg97WzcuVKrrvuOtavX8+cOXOQRG1tLb/4xS+YOnUqjY2NAKxatYqFCxdSW1vLwoULef7559vtWHJLHJK6A3OAU4GRwDmSRjardgGwOSIOBK4FZqflfwMmRkQ1MBW4tWCfnwJfA4anrwl5HYOZWXsZOnQohx56KACHHXYY9fX1rFmzhvHjx1NdXc1tt91GXV0dkEzFfs455wDw5S9/+X3tjBs3jqFDhwLw0EMP8aUvfQmAgw8+mI9//OM7p04/4YQT6N+/P1VVVYwcOZJnn3223Y4lzzOOccCGiHg6It4GFgCTm9WZDNySLt8BnCBJEfF4RPwlLa8DPpSenQwC+kXEo5FMsjUfOD3HYzAzaxeF06N3796d7du3M23aNG644QZqa2v59re/vfNsAaClzpRSJyos9n7tJc/EsT9QeG7UkJYVrRMR24EtwIBmdc4EVkbEW2n9hjbaNDPrFFqaWv2oo45iwYIFAK1OuT5+/Pid29evX89zzz3HQQcdlG/QVPjluJJGkXRfnbwL+04HpgMccMAB7RyZmXVaFTQ1cEtTq1933XWce+65zJ49m8mTm3fUvOfCCy9kxowZVFdX06NHD+bNm/e+M4285DatuqTPAFdFxCnp+rcAIuLfCurcl9Z5RFIP4CVgYESEpMHAEuD8iHg4rT8IeDAiDk7XzwGOjYh/aC0WT6tulcjTqneMSphWvTPIMq16nl1Vy4HhkoZK6gVMARY3q7OYZPAb4CxgSZo09gJ+A1zWlDQAIuJF4DVJR6ZXU50H/CrHYzAzs2ZySxzpmMVM4D7gCeCXEVEn6WpJk9Jqc4EBkjYA/ww0XbI7EzgQuFLSqvS1b7rtQuBnwAbgKeDevI7BzMw+KNcxjoi4B7inWdmVBcuNwOeL7Pdd4LsttFkDfKp9IzWzPVlEtHiVkiWfTxa+c9zM9mhVVVVs2rQp849jVxERbNq0iaqqqpL3qeirqszMdtfgwYNpaGhg48aN5Q6lYlVVVTF48OCS6ztxmNkerWfPnjvvtLb24a4qMzPLxInDzMwyceIwM7NMnDjMzCwTJw4zM8vEicPMzDJx4jAzs0ycOMzMLBMnDjMzy8SJw8zMMnHiMDOzTJw4zMwsEycOMzPLxInDzMwyceIwM7NMnDjMzCwTJw4zM8vEicPMzDJx4jAzs0ycOMzMLJMe5Q7ArCu7YtnE8rzxRODuu8vz3tbp+YzDzMwyceIwM7NMnDjMzCwTJw4zM8vEicPMzDJx4jAzs0ycOMzMLBMnDjMzy8SJw8zMMnHiMDOzTJw4zMwsEycOMzPLxInDzMwyceIwM7NMck0ckiZIWidpg6TLimzvLWlhuv0xSUPS8gGSHpS0TdINzfZZmra5Kn3tm+cxmJnZ++X2PA5J3YE5wElAA7Bc0uKIWFtQ7QJgc0QcKGkKMBs4G2gErgA+lb6a+2JE1OQVu5mZtSzPM45xwIaIeDoi3gYWAJOb1ZkM3JIu3wGcIEkR8XpEPESSQMzMrILkmTj2B54vWG9Iy4rWiYjtwBZgQAlt/zztprpCkopVkDRdUo2kmo0bN2aP3szMiuqMg+NfjIhqYHz6+nKxShFxY0SMjYixAwcO7NAAzcz2ZHkmjheAjxWsD07LitaR1APoD2xqrdGIeCH9uxW4naRLzMzMOkieiWM5MFzSUEm9gCnA4mZ1FgNT0+WzgCURES01KKmHpH3S5Z7AacCado/czMxalNtVVRGxXdJM4D6gO3BzRNRJuhqoiYjFwFzgVkkbgFdIkgsAkuqBfkAvSacDJwPPAvelSaM78ABwU17HYGZmH5Rb4gCIiHuAe5qVXVmw3Ah8voV9h7TQ7GHtFZ+ZmWXXGQfHzcysjEpKHJImSnKSMTOzks84zgaelPQDSQfnGZCZmVW2khJHRHwJ+DTwFDBP0iPpDXZ9c43OzMwqTsndTxHxGsm0IAuAQcDngJWS/ndOsZmZWQUqdYxjsqRFwFKgJzAuIk4FRgP/kl94ZmZWaUq9HPcM4NqI+ENhYUS8IemC9g/LzMwqValdVS81TxqSZgNExO/bPSozM6tYpSaOk4qUndqegZiZWefQaleVpBnAhcAnJP2pYFNf4OE8AzMzs8rU1hjH7cC9wL8BhY9+3RoRr+QWlZmZVay2EkdERL2ki5pvkPQRJw8zs66nlDOO04AVQACFT9sLYFhOcZmZWYVqNXFExGnp36EdE46ZmVW6tgbHx7S2PSJWtm84ZmZW6drqqvpRK9sCOL4dYzEzs06gra6q4zoqEDMz6xza6qo6PiKWSDqj2PaI+O98wjIzs0rVVlfVZ4ElwMQi2wJw4jAz62La6qr6dvr3/I4Jx8zMKl2p06oPkHS9pJWSVki6TtKAvIMzM7PKU+okhwuAjcCZwFnp8sK8gjIzs8pV6vM4BkXENQXr35V0dh4BmZlZZSv1jON3kqZI6pa+vgDcl2dgZmZWmdq6HHcr781R9U/Af6WbugHbgEtzjc7MzCpOW1dV9e2oQMzMrHModYwDSXsDw4GqprLmj5M1M7M9X0mJQ9JXgUuAwcAq4EjgETxXlZlZl1Pq4PglwOHAs+n8VZ8GXs0tKjMzq1ilJo7GiGgEkNQ7Iv4MHJRfWGZmVqlKHeNokLQXcBdwv6TNwLP5hWVmZpWqpMQREZ9LF6+S9CDQH/htblGZmVnFynJV1RjgaJL7Oh6OiLdzi8rMzCpWqZMcXgncAgwA9gF+LmlWnoGZmVllKvWM44vA6IIB8u+TXJb73bwCMzOzylTqVVV/oeDGP6A38EL7h2NmZpWurbmqfkIyprEFqJN0f7p+ErAs//DMzKzStNVVVZP+XQEsKihfmks0ZmZW8dqa5PCWpmVJvYBPpqvrIuKdthqXNAG4DugO/Cwivt9se29gPnAYsAk4OyLq06cL3kFyt/q8iJhZsM9hwDzgQ8A9wCUREW3FYmZm7aPUq6qOBZ4E5gD/AayXdEwb+3RP658KjATOkTSyWbULgM0RcSBwLTA7LW8ErqD4tO0/Bb5GMuHicGBCKcdgZmbto9TB8R8BJ0fEZyPiGOAUkh/61owDNkTE0+k9HwuAyc3qTCa5zBeSM4wTJCkiXo+Ih0gSyE6SBgH9IuLR9CxjPnB6icdgZmbtoNTE0TMi1jWtRMR6oGcb++wPPF+w3pCWFa0TEdtJBuEHtNFmQxttAiBpuqQaSTUbN25sI1QzMytVqYljhaSfSTo2fd3EewPnFSkiboyIsRExduDAgeUOx8xsj1Fq4vhHYC1wcfpaC8xoY58XgI8VrA/mg/d+7KwjqQfJHFib2mhzcBttmplZjtq8czwd5F4dEQcDP87Q9nJguKShJD/uU4Bzm9VZDEwleSjUWcCS1q6QiogXJb0m6UjgMeA84CcZYjIzs93UZuKIiB2S1kk6ICKeK7XhiNguaSZwH8nluDdHRJ2kq4GaiFgMzAVulbQBeIUkuQAgqR7oB/SSdDrJ4Pxa4ELeuxz33vRlZmYdpNS5qvYmuXN8GfB6U2FETGptp4i4h+Rei8KyKwuWG4HPt7DvkBbKa4BPlRi3mZm1s1ITxxW5RmFmZp1GW3NVVZEMjB8I1AJz08tmzcysi2rrqqpbgLEkSeNUkhsBzcysC2urq2pkRFQDSJqLZ8Q1M+vy2jrj2DmRobuozMwM2j7jGC3ptXRZwIfSdQEREf1yjc7MzCpOW9Oqd++oQMzMrHModcoRMzMzwInDzMwycuIwM7NMnDjMzCwTJw4zM8vEicPMzDJx4jAzs0ycOMzMLBMnDjMzy8SJw8zMMnHiMDOzTJw4zMwsEycOMzPLxInDzMwyceIwM7NMnDjMzCwTJw4zM8vEicPMzDJx4jAzs0ycOMzMLJMe5Q7ArDObOLHcEZh1PJ9xmJlZJk4cZmaWiROHmZll4sRhZmaZOHGYmVkmThxmZpaJE4eZmWXixGFmZpk4cZiZWSa5Jg5JEyStk7RB0mVFtveWtDDd/pikIQXbvpWWr5N0SkF5vaRaSask1eQZv5mZfVBuU45I6g7MAU4CGoDlkhZHxNqCahcAmyPiQElTgNnA2ZJGAlOAUcBHgQckfTIidqT7HRcRf8srdjMza1meZxzjgA0R8XREvA0sACY3qzMZuCVdvgM4QZLS8gUR8VZEPANsSNszM7MyyzNx7A88X7DekJYVrRMR24EtwIA29g3gd5JWSJre0ptLmi6pRlLNxo0bd+tAzMzsPZ1xcPzoiBgDnApcJOmYYpUi4saIGBsRYwcOHNixEZqZ7cHyTBwvAB8rWB+clhWtI6kH0B/Y1Nq+EdH092VgEe7CMjPrUHk+j2M5MFzSUJIf/SnAuc3qLAamAo8AZwFLIiIkLQZul/RjksHx4cAySR8GukXE1nT5ZODqHI/BuopdfLDGFcvaOQ6zTiC3xBER2yXNBO4DugM3R0SdpKuBmohYDMwFbpW0AXiFJLmQ1vslsBbYDlwUETsk7QcsSsbP6QHcHhG/zesYzMzsg3J9AmBE3APc06zsyoLlRuDzLez7PeB7zcqeBka3f6RmZlaqzjg4bmZmZeTEYWZmmThxmJlZJk4cZmaWiROHmZll4sRhZmaZOHGYmVkmThxmZpaJE4eZmWXixGFmZpk4cZiZWSZOHGZmlokTh5mZZeLEYWZmmThxmJlZJk4cZmaWiROHmZll4sRhZmaZOHGYmVkmuT5z3Mwq2MSJ5Xnfu+8uz/tau/EZh5mZZeLEYWZmmThxmJlZJk4cZmaWiROHmZll4sRhZmaZOHGYmVkmThxmZpaJE4eZmWXixGFmZpk4cZiZWSaeq8qsC1q2bNf3HTeu/eKwzsmJwypHuSbdM7NM3FVlZmaZOHGYmVkmThxmZpaJxzjMrGP5AVKdns84zMwsk1wTh6QJktZJ2iDpsiLbe0tamG5/TNKQgm3fSsvXSTql1DbNzCxfuXVVSeoOzAFOAhqA5ZIWR8TagmoXAJsj4kBJU4DZwNmSRgJTgFHAR4EHJH0y3aetNm13dbHLYnfnngbrRMr5vd7DusnyHOMYB2yIiKcBJC0AJgOFP/KTgavS5TuAGyQpLV8QEW8Bz0jakLZHCW3uGbrYj7d1Hr550PJMHPsDzxesNwBHtFQnIrZL2gIMSMsfbbbv/ulyW20CIGk6MD1d3SZp3S4cQ0v2Af7Wju21J8e26yo5vkqODUqN79f5B1JE+T87qbWt5Y+vZR8vVrjHXlUVETcCN+bRtqSaiBibR9u7y7HtukqOr5Jjg8qOr5Jjg8qPr5g8B8dfAD5WsD44LStaR1IPoD+wqZV9S2nTzMxylGfiWA4MlzRUUi+Swe7FzeosBqamy2cBSyIi0vIp6VVXQ4HhwLIS2zQzsxzl1lWVjlnMBO4DugM3R0SdpKuBmohYDMwFbk0Hv18hSQSk9X5JMui9HbgoInYAFGszr2NoRS5dYO3Ese26So6vkmODyo6vkmODyo/vA5T8B9/MzKw0vnPczMwyceIwM7NMnDhaIenfJf1Z0p8kLZK0V8G2sk6JIunzkuokvStpbEH5EElvSlqVvv6zYNthkmrT2K5Pb7bs0PjSbRU1nYykqyS9UPCZ/X1bsXakSptmR1J9+j1aJakmLfuIpPslPZn+3bsD47lZ0suS1hSUFY1HievTz/JPksaUIbaK/r6VJCL8auEFnAz0SJdnA7PT5ZHAaqA3MBR4imSwvnu6PAzoldYZmVNsI4CDgKXA2ILyIcCaFvZZBhwJCLgXODXHz66l+Mr+2RWJ9Srg0iLlRWPt4O9g2T6XVmKqB/ZpVvYD4LJ0+bKmfysdFM8xwJjC731L8QB/n373lf5beKwMsVXs963Ul884WhERv4uI7enqoyT3jUDBlCgR8QzQNCXKzmlWIuJtoGlKlDxieyIiSr4bXtIgoF9EPBrJt3Q+cHoesbURX9k/uwxairUjVeLnUsxk4JZ0+RZy/G41FxF/ILkqs5R4JgPzI/EosFf6b6MjY2tJJXzfSuLEUbqvkPxPBYpPp7J/K+UdbaikxyX9P0nj07L903ialCu2Sv3sZqZdFzcXdLOUO6ZKiaG5AH4naUU6tQ/AfhHxYrr8ErBfeULbqaV4KuXzrNTvW0n22ClHSiXpAeB/Fdl0eUT8Kq1zOcn9JLdVWmxFvAgcEBGbJB0G3CVpVAXFVxatxQr8FLiG5AfxGuBHJP9RsOKOjogXJO0L3C/pz4UbIyIkVcx1/pUWD3vA963LJ46IOLG17ZKmAacBJ6RdPND61CftNiVKW7G1sM9bwFvp8gpJTwGfTOMYXFB1t6dr2ZX46KDPrrlSY5V0E+9NxVcJU9xUQgzvExEvpH9flrSIpDvlr5IGRcSLadfPy+WMsZV4yv55RsRfm5Yr8PtWEndVtULSBOCbwKSIeKNgU8VOiSJpoJJnoSBpWBrb0+lp+2uSjkyvpjoPKMdZQcV9ds36uD8HNF0B01KsHans36lCkj4sqW/TMskFJGt4//RBUynPd6tQS/EsBs5Lr646EthS0KXVISr8+1aaco/OV/KLZHDqeWBV+vrPgm2Xk1z1sI6Cq5NIrtpYn267PMfYPkfSB/oW8FfgvrT8TKAujXclMLFgn7EkX9KngBtIZw7oyPgq4bMrEuutQC3wJ5J/vIPairWDv4dl+VxaiGUYyZU/q9Pv2eVp+QDg98CTwAPARzowpl+QdNG+k37nLmgpHpKrqeakn2UtBVf8dWBsFf19K+XlKUfMzCwTd1WZmVkmThxmZpaJE4eZmWXixGFmZpk4cZiZWSZOHGYlknSxpCfSmU1D0okF205Py85K1+dKWp1OK3GHpD6SLi+YEXVHwfLF5Tsqs+x8Oa5ZidKpNU5MX/8MLIuIr6bbFpLMBvzdiLhDUr+IeC3d9mPg5Yj4fkFb2yKiT7P2RfJv8t2OOSKzXeMzDrMSKHmuyTCSiS73Bv4HGCepp6Q+wIEkN10CUJA0BHyIZF6iYu0OSZ+9MJ/k5syPSfqppBolzzP5TkHdeknfkbRSyfMwDk7LP1tw9vJ4053dZnlx4jArQUT8I/AX4DhgM0kieAA4hWQ67A9MAyLp5yQzsx4M/KSV5ocD/xERoyLiWZK7sccChwCflXRIQd2/RcQYkonyLk3LLgUuiohDgfHAm7t8oGYlcOIw23ULSOaOmkIytcT7RMT5wEeBJ4CzW2nn2UieDdHkC5JWAo8Do0ge8NPkv9O/K0ge2gXwMPDjdKxkr3jvGTJmuXDiMNtFEbEMqCZ5Gt76FursIEkwZ7bS1OtNC+nkdpeSzMZ8CPAboKqg7lvp3x2ks1unYydfJekSe7ipC8ssL11+WnWz3XQZ0FhYkI5rfCIiNqTLk4A/F9u5iH4kiWSLpP2AU0kev9siSZ+IiFqgVtLhJF1jpb6fWWZOHGa7ISLuLVIs4BZJ/dLl1cCMEttbLelxkh/+50m6odryT5KOA94lmbG2WExm7caX45qZWSYe4zAzs0ycOMzMLBMnDjMzy8SJw8zMMnHiMDOzTJw4zMwsEycOMzPL5P8De3zU9bthpEMAAAAASUVORK5CYII=\n"
          },
          "metadata": {
            "needs_background": "light"
          }
        },
        {
          "output_type": "display_data",
          "data": {
            "text/plain": [
              "<Figure size 432x288 with 1 Axes>"
            ],
            "image/png": "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\n"
          },
          "metadata": {
            "needs_background": "light"
          }
        },
        {
          "output_type": "display_data",
          "data": {
            "text/plain": [
              "<Figure size 432x288 with 1 Axes>"
            ],
            "image/png": "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\n"
          },
          "metadata": {
            "needs_background": "light"
          }
        }
      ],
      "source": [
        "for label in cols[:-1]:\n",
        "    plt.hist(df[df[\"class\"]==1][label], color=\"blue\", label=\"gamma\", alpha=0.7, density=True)\n",
        "    plt.hist(df[df[\"class\"]==0][label], color=\"red\", label=\"hadron\", alpha=0.7, density=True)\n",
        "    plt.title(label)\n",
        "    plt.ylabel(\"Probability\")\n",
        "    plt.xlabel(label)\n",
        "    plt.legend()\n",
        "    plt.show()"
      ]
    },
    {
      "cell_type": "markdown",
      "id": "739a7bd1-8e95-419a-8ffe-fddcd2ef8d06",
      "metadata": {
        "tags": [],
        "id": "739a7bd1-8e95-419a-8ffe-fddcd2ef8d06"
      },
      "source": [
        "# Train, validation, test datasets"
      ]
    },
    {
      "cell_type": "code",
      "execution_count": 26,
      "id": "53cd72da-7643-476c-9182-2ee4ad474889",
      "metadata": {
        "id": "53cd72da-7643-476c-9182-2ee4ad474889"
      },
      "outputs": [],
      "source": [
        "train, valid, test = np.split(df.sample(frac=1), [int(0.6*len(df)), int(0.8*len(df))])"
      ]
    },
    {
      "cell_type": "code",
      "execution_count": 27,
      "id": "457c2214-41c6-4248-9199-ea21df1f7c04",
      "metadata": {
        "id": "457c2214-41c6-4248-9199-ea21df1f7c04"
      },
      "outputs": [],
      "source": [
        "def scale_dataset(dataframe, oversample=False):\n",
        "    X = dataframe[dataframe.columns[:-1]].values\n",
        "    y = dataframe[dataframe.columns[-1]].values\n",
        "    \n",
        "    scaler = StandardScaler()\n",
        "    X = scaler.fit_transform(X)\n",
        "    \n",
        "    if oversample:\n",
        "        ros = RandomOverSampler()\n",
        "        X, y = ros.fit_resample(X, y)\n",
        "        \n",
        "    data = np.hstack((X, np.reshape(y, (-1, 1))))\n",
        "    \n",
        "    return data, X, y\n",
        "    "
      ]
    },
    {
      "cell_type": "code",
      "execution_count": 28,
      "id": "a658111e-d887-4d37-91cc-3904adc74b72",
      "metadata": {
        "id": "a658111e-d887-4d37-91cc-3904adc74b72"
      },
      "outputs": [],
      "source": [
        "train, X_train, y_train = scale_dataset(train, oversample=True)\n",
        "valid, X_valid, y_valid = scale_dataset(valid, oversample=False)\n",
        "test, X_test, y_test = scale_dataset(test, oversample=False)"
      ]
    },
    {
      "cell_type": "markdown",
      "id": "9946a246-f6e2-4d03-9e3f-2319cbe7fe26",
      "metadata": {
        "id": "9946a246-f6e2-4d03-9e3f-2319cbe7fe26"
      },
      "source": [
        "# KNN"
      ]
    },
    {
      "cell_type": "code",
      "execution_count": 29,
      "id": "ae39f091-2e37-468e-8c9c-174052467b5e",
      "metadata": {
        "id": "ae39f091-2e37-468e-8c9c-174052467b5e"
      },
      "outputs": [],
      "source": [
        "from sklearn.neighbors import KNeighborsClassifier\n",
        "from sklearn.metrics import classification_report"
      ]
    },
    {
      "cell_type": "code",
      "execution_count": 30,
      "id": "e0a10227-82e7-4eb1-9112-41d92681cc38",
      "metadata": {
        "id": "e0a10227-82e7-4eb1-9112-41d92681cc38",
        "outputId": "75713239-b10f-4b6e-c4f7-4c81635f841c",
        "colab": {
          "base_uri": "https://localhost:8080/"
        }
      },
      "outputs": [
        {
          "output_type": "execute_result",
          "data": {
            "text/plain": [
              "KNeighborsClassifier()"
            ]
          },
          "metadata": {},
          "execution_count": 30
        }
      ],
      "source": [
        "knn_model = KNeighborsClassifier(n_neighbors=5)\n",
        "knn_model.fit(X_train, y_train)"
      ]
    },
    {
      "cell_type": "code",
      "execution_count": 31,
      "id": "8f045b5a-051b-4c6b-a663-9b3eaab6bac5",
      "metadata": {
        "id": "8f045b5a-051b-4c6b-a663-9b3eaab6bac5"
      },
      "outputs": [],
      "source": [
        "y_pred = knn_model.predict(X_test)"
      ]
    },
    {
      "cell_type": "code",
      "execution_count": 32,
      "id": "8bced206-286c-4975-b7a0-e6e8bdbfb99a",
      "metadata": {
        "id": "8bced206-286c-4975-b7a0-e6e8bdbfb99a",
        "outputId": "c316ab0c-2cb9-428a-b8a4-a5ebbac34911",
        "colab": {
          "base_uri": "https://localhost:8080/"
        }
      },
      "outputs": [
        {
          "output_type": "execute_result",
          "data": {
            "text/plain": [
              "array([1, 1, 1, ..., 0, 0, 1])"
            ]
          },
          "metadata": {},
          "execution_count": 32
        }
      ],
      "source": [
        "y_pred"
      ]
    },
    {
      "cell_type": "code",
      "execution_count": 33,
      "id": "a7f7fc45-3587-4332-b50a-87312eb83735",
      "metadata": {
        "id": "a7f7fc45-3587-4332-b50a-87312eb83735",
        "outputId": "ce4cc458-9b6e-432a-bd6d-b3010d78dd28",
        "colab": {
          "base_uri": "https://localhost:8080/"
        }
      },
      "outputs": [
        {
          "output_type": "execute_result",
          "data": {
            "text/plain": [
              "array([1, 0, 1, ..., 0, 1, 1])"
            ]
          },
          "metadata": {},
          "execution_count": 33
        }
      ],
      "source": [
        "y_test"
      ]
    },
    {
      "cell_type": "code",
      "execution_count": 34,
      "id": "33cd4a9d-2eb8-4a19-802a-9ef248f99643",
      "metadata": {
        "id": "33cd4a9d-2eb8-4a19-802a-9ef248f99643",
        "outputId": "7b96990e-0bcf-4f87-bb15-2829d8afa61b",
        "colab": {
          "base_uri": "https://localhost:8080/"
        }
      },
      "outputs": [
        {
          "output_type": "stream",
          "name": "stdout",
          "text": [
            "              precision    recall  f1-score   support\n",
            "\n",
            "           0       0.74      0.70      0.72      1335\n",
            "           1       0.84      0.87      0.85      2469\n",
            "\n",
            "    accuracy                           0.81      3804\n",
            "   macro avg       0.79      0.78      0.79      3804\n",
            "weighted avg       0.81      0.81      0.81      3804\n",
            "\n"
          ]
        }
      ],
      "source": [
        "print(classification_report(y_test, y_pred))"
      ]
    },
    {
      "cell_type": "markdown",
      "id": "7431b110-fb62-4816-a312-dec8af4e63e1",
      "metadata": {
        "id": "7431b110-fb62-4816-a312-dec8af4e63e1"
      },
      "source": [
        "# Naive Bayes"
      ]
    },
    {
      "cell_type": "code",
      "execution_count": 35,
      "id": "9340ae9f-a4db-44d6-9367-4f5c1db69e88",
      "metadata": {
        "id": "9340ae9f-a4db-44d6-9367-4f5c1db69e88"
      },
      "outputs": [],
      "source": [
        "from sklearn.naive_bayes import GaussianNB"
      ]
    },
    {
      "cell_type": "code",
      "execution_count": 36,
      "id": "f6238f92-68bf-45e5-8ee3-995fe52ab88a",
      "metadata": {
        "id": "f6238f92-68bf-45e5-8ee3-995fe52ab88a"
      },
      "outputs": [],
      "source": [
        "nb_model = GaussianNB()\n",
        "nb_model = nb_model.fit(X_train, y_train)"
      ]
    },
    {
      "cell_type": "code",
      "execution_count": 37,
      "id": "fb467380-04aa-42b7-9052-53bcc30c68f5",
      "metadata": {
        "id": "fb467380-04aa-42b7-9052-53bcc30c68f5",
        "outputId": "f0be7e4b-0614-495b-9bae-9b4a29840751",
        "colab": {
          "base_uri": "https://localhost:8080/"
        }
      },
      "outputs": [
        {
          "output_type": "stream",
          "name": "stdout",
          "text": [
            "              precision    recall  f1-score   support\n",
            "\n",
            "           0       0.66      0.40      0.49      1335\n",
            "           1       0.73      0.89      0.80      2469\n",
            "\n",
            "    accuracy                           0.72      3804\n",
            "   macro avg       0.70      0.64      0.65      3804\n",
            "weighted avg       0.71      0.72      0.69      3804\n",
            "\n"
          ]
        }
      ],
      "source": [
        "y_pred = nb_model.predict(X_test)\n",
        "print(classification_report(y_test, y_pred))"
      ]
    },
    {
      "cell_type": "markdown",
      "id": "51aa393b-ee00-409e-abff-b89ab628d2b5",
      "metadata": {
        "id": "51aa393b-ee00-409e-abff-b89ab628d2b5"
      },
      "source": [
        "# Log Regression"
      ]
    },
    {
      "cell_type": "code",
      "execution_count": 38,
      "id": "5ff585f8-949d-4636-a019-d9db6fc1a38e",
      "metadata": {
        "id": "5ff585f8-949d-4636-a019-d9db6fc1a38e"
      },
      "outputs": [],
      "source": [
        "from sklearn.linear_model import LogisticRegression"
      ]
    },
    {
      "cell_type": "code",
      "execution_count": 39,
      "id": "f655b2f9-dd77-4128-9915-58c1f5984174",
      "metadata": {
        "id": "f655b2f9-dd77-4128-9915-58c1f5984174"
      },
      "outputs": [],
      "source": [
        "lg_model = LogisticRegression()\n",
        "lg_model = lg_model.fit(X_train, y_train)"
      ]
    },
    {
      "cell_type": "code",
      "execution_count": 40,
      "id": "6cd6a225-8c54-4345-b266-6d4a0761a961",
      "metadata": {
        "id": "6cd6a225-8c54-4345-b266-6d4a0761a961",
        "outputId": "fe54a428-6c39-4fe2-9796-14f3d8e73e1c",
        "colab": {
          "base_uri": "https://localhost:8080/"
        }
      },
      "outputs": [
        {
          "output_type": "stream",
          "name": "stdout",
          "text": [
            "              precision    recall  f1-score   support\n",
            "\n",
            "           0       0.67      0.71      0.69      1335\n",
            "           1       0.84      0.81      0.82      2469\n",
            "\n",
            "    accuracy                           0.78      3804\n",
            "   macro avg       0.75      0.76      0.76      3804\n",
            "weighted avg       0.78      0.78      0.78      3804\n",
            "\n"
          ]
        }
      ],
      "source": [
        "y_pred = lg_model.predict(X_test)\n",
        "print(classification_report(y_test, y_pred))"
      ]
    },
    {
      "cell_type": "code",
      "execution_count": 41,
      "id": "327c8110-b8af-4ca0-b25d-57b3eff27240",
      "metadata": {
        "id": "327c8110-b8af-4ca0-b25d-57b3eff27240"
      },
      "outputs": [],
      "source": [
        "from sklearn.svm import SVC"
      ]
    },
    {
      "cell_type": "code",
      "execution_count": 42,
      "id": "fc297b44-d920-488d-bc81-a42d0af96482",
      "metadata": {
        "id": "fc297b44-d920-488d-bc81-a42d0af96482"
      },
      "outputs": [],
      "source": [
        "svm_model = SVC()\n",
        "svm_model = svm_model.fit(X_train, y_train)"
      ]
    },
    {
      "cell_type": "code",
      "execution_count": 43,
      "id": "f5722e49-cf4a-49a4-a180-9dea76e1a38a",
      "metadata": {
        "id": "f5722e49-cf4a-49a4-a180-9dea76e1a38a",
        "outputId": "eca4fb47-d275-44f2-8525-aa87595477dc",
        "colab": {
          "base_uri": "https://localhost:8080/"
        }
      },
      "outputs": [
        {
          "output_type": "stream",
          "name": "stdout",
          "text": [
            "              precision    recall  f1-score   support\n",
            "\n",
            "           0       0.82      0.78      0.80      1335\n",
            "           1       0.88      0.91      0.89      2469\n",
            "\n",
            "    accuracy                           0.86      3804\n",
            "   macro avg       0.85      0.84      0.85      3804\n",
            "weighted avg       0.86      0.86      0.86      3804\n",
            "\n"
          ]
        }
      ],
      "source": [
        "y_pred = svm_model.predict(X_test)\n",
        "print(classification_report(y_test, y_pred))"
      ]
    },
    {
      "cell_type": "markdown",
      "id": "348604c5-149e-433e-abae-1609f6f67ffb",
      "metadata": {
        "id": "348604c5-149e-433e-abae-1609f6f67ffb"
      },
      "source": [
        "# Neural Net"
      ]
    },
    {
      "cell_type": "code",
      "execution_count": 44,
      "id": "3f843826-af49-43f6-b36f-80820c620086",
      "metadata": {
        "id": "3f843826-af49-43f6-b36f-80820c620086"
      },
      "outputs": [],
      "source": [
        "import tensorflow as tf"
      ]
    },
    {
      "cell_type": "code",
      "execution_count": 45,
      "id": "d34fe7b0-1411-49d6-ad35-c06fbb1ec529",
      "metadata": {
        "id": "d34fe7b0-1411-49d6-ad35-c06fbb1ec529"
      },
      "outputs": [],
      "source": [
        "def plot_history(history):\n",
        "  fig, (ax1, ax2) = plt.subplots(1, 2, figsize=(10, 4))\n",
        "  ax1.plot(history.history['loss'], label='loss')\n",
        "  ax1.plot(history.history['val_loss'], label='val_loss')\n",
        "  ax1.set_xlabel('Epoch')\n",
        "  ax1.set_ylabel('Binary crossentropy')\n",
        "  ax1.grid(True)\n",
        "\n",
        "  ax2.plot(history.history['accuracy'], label='accuracy')\n",
        "  ax2.plot(history.history['val_accuracy'], label='val_accuracy')\n",
        "  ax2.set_xlabel('Epoch')\n",
        "  ax2.set_ylabel('Accuracy')\n",
        "  ax2.grid(True)\n",
        "\n",
        "  plt.show()"
      ]
    },
    {
      "cell_type": "code",
      "execution_count": 46,
      "id": "270671aa-b4d2-4a3e-9528-a7b159a95a1f",
      "metadata": {
        "id": "270671aa-b4d2-4a3e-9528-a7b159a95a1f"
      },
      "outputs": [],
      "source": [
        "def train_model(X_train, y_train, num_nodes, dropout_prob, lr, batch_size, epochs):\n",
        "  nn_model = tf.keras.Sequential([\n",
        "      tf.keras.layers.Dense(num_nodes, activation='relu', input_shape=(10,)),\n",
        "      tf.keras.layers.Dropout(dropout_prob),\n",
        "      tf.keras.layers.Dense(num_nodes, activation='relu'),\n",
        "      tf.keras.layers.Dropout(dropout_prob),\n",
        "      tf.keras.layers.Dense(1, activation='sigmoid')\n",
        "  ])\n",
        "\n",
        "  nn_model.compile(optimizer=tf.keras.optimizers.Adam(lr), loss='binary_crossentropy',\n",
        "                  metrics=['accuracy'])\n",
        "  history = nn_model.fit(\n",
        "    X_train, y_train, epochs=epochs, batch_size=batch_size, validation_split=0.2, verbose=0\n",
        "  )\n",
        "\n",
        "  return nn_model, history"
      ]
    },
    {
      "cell_type": "code",
      "execution_count": 48,
      "id": "d8c32c60-1d5f-4481-ad08-75c084bed0e9",
      "metadata": {
        "id": "d8c32c60-1d5f-4481-ad08-75c084bed0e9",
        "outputId": "90125059-8781-402c-8bf9-a20cd1aa0551",
        "colab": {
          "base_uri": "https://localhost:8080/",
          "height": 991
        }
      },
      "outputs": [
        {
          "output_type": "stream",
          "name": "stdout",
          "text": [
            "16 nodes, dropout 0, lr 0.01, batch size 32\n"
          ]
        },
        {
          "output_type": "display_data",
          "data": {
            "text/plain": [
              "<Figure size 720x288 with 2 Axes>"
            ],
            "image/png": "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\n"
          },
          "metadata": {
            "needs_background": "light"
          }
        },
        {
          "output_type": "stream",
          "name": "stdout",
          "text": [
            "119/119 [==============================] - 0s 2ms/step - loss: 0.3135 - accuracy: 0.8667\n",
            "16 nodes, dropout 0, lr 0.01, batch size 64\n"
          ]
        },
        {
          "output_type": "display_data",
          "data": {
            "text/plain": [
              "<Figure size 720x288 with 2 Axes>"
            ],
            "image/png": "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\n"
          },
          "metadata": {
            "needs_background": "light"
          }
        },
        {
          "output_type": "stream",
          "name": "stdout",
          "text": [
            "119/119 [==============================] - 0s 2ms/step - loss: 0.3137 - accuracy: 0.8746\n",
            "16 nodes, dropout 0, lr 0.01, batch size 128\n"
          ]
        },
        {
          "output_type": "error",
          "ename": "KeyboardInterrupt",
          "evalue": "ignored",
          "traceback": [
            "\u001b[0;31m---------------------------------------------------------------------------\u001b[0m",
            "\u001b[0;31mKeyboardInterrupt\u001b[0m                         Traceback (most recent call last)",
            "\u001b[0;32m<ipython-input-48-a495f655c503>\u001b[0m in \u001b[0;36m<module>\u001b[0;34m\u001b[0m\n\u001b[1;32m      7\u001b[0m       \u001b[0;32mfor\u001b[0m \u001b[0mbatch_size\u001b[0m \u001b[0;32min\u001b[0m \u001b[0;34m[\u001b[0m\u001b[0;36m32\u001b[0m\u001b[0;34m,\u001b[0m \u001b[0;36m64\u001b[0m\u001b[0;34m,\u001b[0m \u001b[0;36m128\u001b[0m\u001b[0;34m]\u001b[0m\u001b[0;34m:\u001b[0m\u001b[0;34m\u001b[0m\u001b[0;34m\u001b[0m\u001b[0m\n\u001b[1;32m      8\u001b[0m         \u001b[0mprint\u001b[0m\u001b[0;34m(\u001b[0m\u001b[0;34mf\"{num_nodes} nodes, dropout {dropout_prob}, lr {lr}, batch size {batch_size}\"\u001b[0m\u001b[0;34m)\u001b[0m\u001b[0;34m\u001b[0m\u001b[0;34m\u001b[0m\u001b[0m\n\u001b[0;32m----> 9\u001b[0;31m         \u001b[0mmodel\u001b[0m\u001b[0;34m,\u001b[0m \u001b[0mhistory\u001b[0m \u001b[0;34m=\u001b[0m \u001b[0mtrain_model\u001b[0m\u001b[0;34m(\u001b[0m\u001b[0mX_train\u001b[0m\u001b[0;34m,\u001b[0m \u001b[0my_train\u001b[0m\u001b[0;34m,\u001b[0m \u001b[0mnum_nodes\u001b[0m\u001b[0;34m,\u001b[0m \u001b[0mdropout_prob\u001b[0m\u001b[0;34m,\u001b[0m \u001b[0mlr\u001b[0m\u001b[0;34m,\u001b[0m \u001b[0mbatch_size\u001b[0m\u001b[0;34m,\u001b[0m \u001b[0mepochs\u001b[0m\u001b[0;34m)\u001b[0m\u001b[0;34m\u001b[0m\u001b[0;34m\u001b[0m\u001b[0m\n\u001b[0m\u001b[1;32m     10\u001b[0m         \u001b[0mplot_history\u001b[0m\u001b[0;34m(\u001b[0m\u001b[0mhistory\u001b[0m\u001b[0;34m)\u001b[0m\u001b[0;34m\u001b[0m\u001b[0;34m\u001b[0m\u001b[0m\n\u001b[1;32m     11\u001b[0m         \u001b[0mval_loss\u001b[0m \u001b[0;34m=\u001b[0m \u001b[0mmodel\u001b[0m\u001b[0;34m.\u001b[0m\u001b[0mevaluate\u001b[0m\u001b[0;34m(\u001b[0m\u001b[0mX_valid\u001b[0m\u001b[0;34m,\u001b[0m \u001b[0my_valid\u001b[0m\u001b[0;34m)\u001b[0m\u001b[0;34m[\u001b[0m\u001b[0;36m0\u001b[0m\u001b[0;34m]\u001b[0m\u001b[0;34m\u001b[0m\u001b[0;34m\u001b[0m\u001b[0m\n",
            "\u001b[0;32m<ipython-input-46-69371c0d6fa8>\u001b[0m in \u001b[0;36mtrain_model\u001b[0;34m(X_train, y_train, num_nodes, dropout_prob, lr, batch_size, epochs)\u001b[0m\n\u001b[1;32m     10\u001b[0m   nn_model.compile(optimizer=tf.keras.optimizers.Adam(lr), loss='binary_crossentropy',\n\u001b[1;32m     11\u001b[0m                   metrics=['accuracy'])\n\u001b[0;32m---> 12\u001b[0;31m   history = nn_model.fit(\n\u001b[0m\u001b[1;32m     13\u001b[0m     \u001b[0mX_train\u001b[0m\u001b[0;34m,\u001b[0m \u001b[0my_train\u001b[0m\u001b[0;34m,\u001b[0m \u001b[0mepochs\u001b[0m\u001b[0;34m=\u001b[0m\u001b[0mepochs\u001b[0m\u001b[0;34m,\u001b[0m \u001b[0mbatch_size\u001b[0m\u001b[0;34m=\u001b[0m\u001b[0mbatch_size\u001b[0m\u001b[0;34m,\u001b[0m \u001b[0mvalidation_split\u001b[0m\u001b[0;34m=\u001b[0m\u001b[0;36m0.2\u001b[0m\u001b[0;34m,\u001b[0m \u001b[0mverbose\u001b[0m\u001b[0;34m=\u001b[0m\u001b[0;36m0\u001b[0m\u001b[0;34m\u001b[0m\u001b[0;34m\u001b[0m\u001b[0m\n\u001b[1;32m     14\u001b[0m   )\n",
            "\u001b[0;32m/usr/local/lib/python3.8/dist-packages/keras/utils/traceback_utils.py\u001b[0m in \u001b[0;36merror_handler\u001b[0;34m(*args, **kwargs)\u001b[0m\n\u001b[1;32m     62\u001b[0m     \u001b[0mfiltered_tb\u001b[0m \u001b[0;34m=\u001b[0m \u001b[0;32mNone\u001b[0m\u001b[0;34m\u001b[0m\u001b[0;34m\u001b[0m\u001b[0m\n\u001b[1;32m     63\u001b[0m     \u001b[0;32mtry\u001b[0m\u001b[0;34m:\u001b[0m\u001b[0;34m\u001b[0m\u001b[0;34m\u001b[0m\u001b[0m\n\u001b[0;32m---> 64\u001b[0;31m       \u001b[0;32mreturn\u001b[0m \u001b[0mfn\u001b[0m\u001b[0;34m(\u001b[0m\u001b[0;34m*\u001b[0m\u001b[0margs\u001b[0m\u001b[0;34m,\u001b[0m \u001b[0;34m**\u001b[0m\u001b[0mkwargs\u001b[0m\u001b[0;34m)\u001b[0m\u001b[0;34m\u001b[0m\u001b[0;34m\u001b[0m\u001b[0m\n\u001b[0m\u001b[1;32m     65\u001b[0m     \u001b[0;32mexcept\u001b[0m \u001b[0mException\u001b[0m \u001b[0;32mas\u001b[0m \u001b[0me\u001b[0m\u001b[0;34m:\u001b[0m  \u001b[0;31m# pylint: disable=broad-except\u001b[0m\u001b[0;34m\u001b[0m\u001b[0;34m\u001b[0m\u001b[0m\n\u001b[1;32m     66\u001b[0m       \u001b[0mfiltered_tb\u001b[0m \u001b[0;34m=\u001b[0m \u001b[0m_process_traceback_frames\u001b[0m\u001b[0;34m(\u001b[0m\u001b[0me\u001b[0m\u001b[0;34m.\u001b[0m\u001b[0m__traceback__\u001b[0m\u001b[0;34m)\u001b[0m\u001b[0;34m\u001b[0m\u001b[0;34m\u001b[0m\u001b[0m\n",
            "\u001b[0;32m/usr/local/lib/python3.8/dist-packages/keras/engine/training.py\u001b[0m in \u001b[0;36mfit\u001b[0;34m(self, x, y, batch_size, epochs, verbose, callbacks, validation_split, validation_data, shuffle, class_weight, sample_weight, initial_epoch, steps_per_epoch, validation_steps, validation_batch_size, validation_freq, max_queue_size, workers, use_multiprocessing)\u001b[0m\n\u001b[1;32m   1407\u001b[0m                 _r=1):\n\u001b[1;32m   1408\u001b[0m               \u001b[0mcallbacks\u001b[0m\u001b[0;34m.\u001b[0m\u001b[0mon_train_batch_begin\u001b[0m\u001b[0;34m(\u001b[0m\u001b[0mstep\u001b[0m\u001b[0;34m)\u001b[0m\u001b[0;34m\u001b[0m\u001b[0;34m\u001b[0m\u001b[0m\n\u001b[0;32m-> 1409\u001b[0;31m               \u001b[0mtmp_logs\u001b[0m \u001b[0;34m=\u001b[0m \u001b[0mself\u001b[0m\u001b[0;34m.\u001b[0m\u001b[0mtrain_function\u001b[0m\u001b[0;34m(\u001b[0m\u001b[0miterator\u001b[0m\u001b[0;34m)\u001b[0m\u001b[0;34m\u001b[0m\u001b[0;34m\u001b[0m\u001b[0m\n\u001b[0m\u001b[1;32m   1410\u001b[0m               \u001b[0;32mif\u001b[0m \u001b[0mdata_handler\u001b[0m\u001b[0;34m.\u001b[0m\u001b[0mshould_sync\u001b[0m\u001b[0;34m:\u001b[0m\u001b[0;34m\u001b[0m\u001b[0;34m\u001b[0m\u001b[0m\n\u001b[1;32m   1411\u001b[0m                 \u001b[0mcontext\u001b[0m\u001b[0;34m.\u001b[0m\u001b[0masync_wait\u001b[0m\u001b[0;34m(\u001b[0m\u001b[0;34m)\u001b[0m\u001b[0;34m\u001b[0m\u001b[0;34m\u001b[0m\u001b[0m\n",
            "\u001b[0;32m/usr/local/lib/python3.8/dist-packages/tensorflow/python/util/traceback_utils.py\u001b[0m in \u001b[0;36merror_handler\u001b[0;34m(*args, **kwargs)\u001b[0m\n\u001b[1;32m    148\u001b[0m     \u001b[0mfiltered_tb\u001b[0m \u001b[0;34m=\u001b[0m \u001b[0;32mNone\u001b[0m\u001b[0;34m\u001b[0m\u001b[0;34m\u001b[0m\u001b[0m\n\u001b[1;32m    149\u001b[0m     \u001b[0;32mtry\u001b[0m\u001b[0;34m:\u001b[0m\u001b[0;34m\u001b[0m\u001b[0;34m\u001b[0m\u001b[0m\n\u001b[0;32m--> 150\u001b[0;31m       \u001b[0;32mreturn\u001b[0m \u001b[0mfn\u001b[0m\u001b[0;34m(\u001b[0m\u001b[0;34m*\u001b[0m\u001b[0margs\u001b[0m\u001b[0;34m,\u001b[0m \u001b[0;34m**\u001b[0m\u001b[0mkwargs\u001b[0m\u001b[0;34m)\u001b[0m\u001b[0;34m\u001b[0m\u001b[0;34m\u001b[0m\u001b[0m\n\u001b[0m\u001b[1;32m    151\u001b[0m     \u001b[0;32mexcept\u001b[0m \u001b[0mException\u001b[0m \u001b[0;32mas\u001b[0m \u001b[0me\u001b[0m\u001b[0;34m:\u001b[0m\u001b[0;34m\u001b[0m\u001b[0;34m\u001b[0m\u001b[0m\n\u001b[1;32m    152\u001b[0m       \u001b[0mfiltered_tb\u001b[0m \u001b[0;34m=\u001b[0m \u001b[0m_process_traceback_frames\u001b[0m\u001b[0;34m(\u001b[0m\u001b[0me\u001b[0m\u001b[0;34m.\u001b[0m\u001b[0m__traceback__\u001b[0m\u001b[0;34m)\u001b[0m\u001b[0;34m\u001b[0m\u001b[0;34m\u001b[0m\u001b[0m\n",
            "\u001b[0;32m/usr/local/lib/python3.8/dist-packages/tensorflow/python/eager/def_function.py\u001b[0m in \u001b[0;36m__call__\u001b[0;34m(self, *args, **kwds)\u001b[0m\n\u001b[1;32m    913\u001b[0m \u001b[0;34m\u001b[0m\u001b[0m\n\u001b[1;32m    914\u001b[0m       \u001b[0;32mwith\u001b[0m \u001b[0mOptionalXlaContext\u001b[0m\u001b[0;34m(\u001b[0m\u001b[0mself\u001b[0m\u001b[0;34m.\u001b[0m\u001b[0m_jit_compile\u001b[0m\u001b[0;34m)\u001b[0m\u001b[0;34m:\u001b[0m\u001b[0;34m\u001b[0m\u001b[0;34m\u001b[0m\u001b[0m\n\u001b[0;32m--> 915\u001b[0;31m         \u001b[0mresult\u001b[0m \u001b[0;34m=\u001b[0m \u001b[0mself\u001b[0m\u001b[0;34m.\u001b[0m\u001b[0m_call\u001b[0m\u001b[0;34m(\u001b[0m\u001b[0;34m*\u001b[0m\u001b[0margs\u001b[0m\u001b[0;34m,\u001b[0m \u001b[0;34m**\u001b[0m\u001b[0mkwds\u001b[0m\u001b[0;34m)\u001b[0m\u001b[0;34m\u001b[0m\u001b[0;34m\u001b[0m\u001b[0m\n\u001b[0m\u001b[1;32m    916\u001b[0m \u001b[0;34m\u001b[0m\u001b[0m\n\u001b[1;32m    917\u001b[0m       \u001b[0mnew_tracing_count\u001b[0m \u001b[0;34m=\u001b[0m \u001b[0mself\u001b[0m\u001b[0;34m.\u001b[0m\u001b[0mexperimental_get_tracing_count\u001b[0m\u001b[0;34m(\u001b[0m\u001b[0;34m)\u001b[0m\u001b[0;34m\u001b[0m\u001b[0;34m\u001b[0m\u001b[0m\n",
            "\u001b[0;32m/usr/local/lib/python3.8/dist-packages/tensorflow/python/eager/def_function.py\u001b[0m in \u001b[0;36m_call\u001b[0;34m(self, *args, **kwds)\u001b[0m\n\u001b[1;32m    945\u001b[0m       \u001b[0;31m# In this case we have created variables on the first call, so we run the\u001b[0m\u001b[0;34m\u001b[0m\u001b[0;34m\u001b[0m\u001b[0;34m\u001b[0m\u001b[0m\n\u001b[1;32m    946\u001b[0m       \u001b[0;31m# defunned version which is guaranteed to never create variables.\u001b[0m\u001b[0;34m\u001b[0m\u001b[0;34m\u001b[0m\u001b[0;34m\u001b[0m\u001b[0m\n\u001b[0;32m--> 947\u001b[0;31m       \u001b[0;32mreturn\u001b[0m \u001b[0mself\u001b[0m\u001b[0;34m.\u001b[0m\u001b[0m_stateless_fn\u001b[0m\u001b[0;34m(\u001b[0m\u001b[0;34m*\u001b[0m\u001b[0margs\u001b[0m\u001b[0;34m,\u001b[0m \u001b[0;34m**\u001b[0m\u001b[0mkwds\u001b[0m\u001b[0;34m)\u001b[0m  \u001b[0;31m# pylint: disable=not-callable\u001b[0m\u001b[0;34m\u001b[0m\u001b[0;34m\u001b[0m\u001b[0m\n\u001b[0m\u001b[1;32m    948\u001b[0m     \u001b[0;32melif\u001b[0m \u001b[0mself\u001b[0m\u001b[0;34m.\u001b[0m\u001b[0m_stateful_fn\u001b[0m \u001b[0;32mis\u001b[0m \u001b[0;32mnot\u001b[0m \u001b[0;32mNone\u001b[0m\u001b[0;34m:\u001b[0m\u001b[0;34m\u001b[0m\u001b[0;34m\u001b[0m\u001b[0m\n\u001b[1;32m    949\u001b[0m       \u001b[0;31m# Release the lock early so that multiple threads can perform the call\u001b[0m\u001b[0;34m\u001b[0m\u001b[0;34m\u001b[0m\u001b[0;34m\u001b[0m\u001b[0m\n",
            "\u001b[0;32m/usr/local/lib/python3.8/dist-packages/tensorflow/python/eager/function.py\u001b[0m in \u001b[0;36m__call__\u001b[0;34m(self, *args, **kwargs)\u001b[0m\n\u001b[1;32m   2451\u001b[0m       (graph_function,\n\u001b[1;32m   2452\u001b[0m        filtered_flat_args) = self._maybe_define_function(args, kwargs)\n\u001b[0;32m-> 2453\u001b[0;31m     return graph_function._call_flat(\n\u001b[0m\u001b[1;32m   2454\u001b[0m         filtered_flat_args, captured_inputs=graph_function.captured_inputs)  # pylint: disable=protected-access\n\u001b[1;32m   2455\u001b[0m \u001b[0;34m\u001b[0m\u001b[0m\n",
            "\u001b[0;32m/usr/local/lib/python3.8/dist-packages/tensorflow/python/eager/function.py\u001b[0m in \u001b[0;36m_call_flat\u001b[0;34m(self, args, captured_inputs, cancellation_manager)\u001b[0m\n\u001b[1;32m   1858\u001b[0m         and executing_eagerly):\n\u001b[1;32m   1859\u001b[0m       \u001b[0;31m# No tape is watching; skip to running the function.\u001b[0m\u001b[0;34m\u001b[0m\u001b[0;34m\u001b[0m\u001b[0;34m\u001b[0m\u001b[0m\n\u001b[0;32m-> 1860\u001b[0;31m       return self._build_call_outputs(self._inference_function.call(\n\u001b[0m\u001b[1;32m   1861\u001b[0m           ctx, args, cancellation_manager=cancellation_manager))\n\u001b[1;32m   1862\u001b[0m     forward_backward = self._select_forward_and_backward_functions(\n",
            "\u001b[0;32m/usr/local/lib/python3.8/dist-packages/tensorflow/python/eager/function.py\u001b[0m in \u001b[0;36mcall\u001b[0;34m(self, ctx, args, cancellation_manager)\u001b[0m\n\u001b[1;32m    495\u001b[0m       \u001b[0;32mwith\u001b[0m \u001b[0m_InterpolateFunctionError\u001b[0m\u001b[0;34m(\u001b[0m\u001b[0mself\u001b[0m\u001b[0;34m)\u001b[0m\u001b[0;34m:\u001b[0m\u001b[0;34m\u001b[0m\u001b[0;34m\u001b[0m\u001b[0m\n\u001b[1;32m    496\u001b[0m         \u001b[0;32mif\u001b[0m \u001b[0mcancellation_manager\u001b[0m \u001b[0;32mis\u001b[0m \u001b[0;32mNone\u001b[0m\u001b[0;34m:\u001b[0m\u001b[0;34m\u001b[0m\u001b[0;34m\u001b[0m\u001b[0m\n\u001b[0;32m--> 497\u001b[0;31m           outputs = execute.execute(\n\u001b[0m\u001b[1;32m    498\u001b[0m               \u001b[0mstr\u001b[0m\u001b[0;34m(\u001b[0m\u001b[0mself\u001b[0m\u001b[0;34m.\u001b[0m\u001b[0msignature\u001b[0m\u001b[0;34m.\u001b[0m\u001b[0mname\u001b[0m\u001b[0;34m)\u001b[0m\u001b[0;34m,\u001b[0m\u001b[0;34m\u001b[0m\u001b[0;34m\u001b[0m\u001b[0m\n\u001b[1;32m    499\u001b[0m               \u001b[0mnum_outputs\u001b[0m\u001b[0;34m=\u001b[0m\u001b[0mself\u001b[0m\u001b[0;34m.\u001b[0m\u001b[0m_num_outputs\u001b[0m\u001b[0;34m,\u001b[0m\u001b[0;34m\u001b[0m\u001b[0;34m\u001b[0m\u001b[0m\n",
            "\u001b[0;32m/usr/local/lib/python3.8/dist-packages/tensorflow/python/eager/execute.py\u001b[0m in \u001b[0;36mquick_execute\u001b[0;34m(op_name, num_outputs, inputs, attrs, ctx, name)\u001b[0m\n\u001b[1;32m     52\u001b[0m   \u001b[0;32mtry\u001b[0m\u001b[0;34m:\u001b[0m\u001b[0;34m\u001b[0m\u001b[0;34m\u001b[0m\u001b[0m\n\u001b[1;32m     53\u001b[0m     \u001b[0mctx\u001b[0m\u001b[0;34m.\u001b[0m\u001b[0mensure_initialized\u001b[0m\u001b[0;34m(\u001b[0m\u001b[0;34m)\u001b[0m\u001b[0;34m\u001b[0m\u001b[0;34m\u001b[0m\u001b[0m\n\u001b[0;32m---> 54\u001b[0;31m     tensors = pywrap_tfe.TFE_Py_Execute(ctx._handle, device_name, op_name,\n\u001b[0m\u001b[1;32m     55\u001b[0m                                         inputs, attrs, num_outputs)\n\u001b[1;32m     56\u001b[0m   \u001b[0;32mexcept\u001b[0m \u001b[0mcore\u001b[0m\u001b[0;34m.\u001b[0m\u001b[0m_NotOkStatusException\u001b[0m \u001b[0;32mas\u001b[0m \u001b[0me\u001b[0m\u001b[0;34m:\u001b[0m\u001b[0;34m\u001b[0m\u001b[0;34m\u001b[0m\u001b[0m\n",
            "\u001b[0;31mKeyboardInterrupt\u001b[0m: "
          ]
        }
      ],
      "source": [
        "# least_val_loss = float('inf')\n",
        "# least_loss_model = None\n",
        "# epochs=100\n",
        "# for num_nodes in [16, 32, 64]:\n",
        "#   for dropout_prob in[0, 0.2]:\n",
        "#     for lr in [0.01, 0.005, 0.001]:\n",
        "#       for batch_size in [32, 64, 128]:\n",
        "#         print(f\"{num_nodes} nodes, dropout {dropout_prob}, lr {lr}, batch size {batch_size}\")\n",
        "#         model, history = train_model(X_train, y_train, num_nodes, dropout_prob, lr, batch_size, epochs)\n",
        "#         plot_history(history)\n",
        "#         val_loss = model.evaluate(X_valid, y_valid)[0]\n",
        "#         if val_loss < least_val_loss:\n",
        "#           least_val_loss = val_loss\n",
        "#           least_loss_model = model"
      ]
    },
    {
      "cell_type": "code",
      "source": [
        "# !git init\n",
        "# !git add .\n",
        "# !git commit -m \"first load from colab\"\n",
        "# !git branch -M main\n",
        "# !git remote add origin https://github.com/Sebory/Data_Science.git\n",
        "# !git push -u origine main"
      ],
      "metadata": {
        "id": "rPTrPfI7y1J8"
      },
      "id": "rPTrPfI7y1J8",
      "execution_count": null,
      "outputs": []
    }
  ],
  "metadata": {
    "kernelspec": {
      "display_name": "Python 3 (ipykernel)",
      "language": "python",
      "name": "python3"
    },
    "language_info": {
      "codemirror_mode": {
        "name": "ipython",
        "version": 3
      },
      "file_extension": ".py",
      "mimetype": "text/x-python",
      "name": "python",
      "nbconvert_exporter": "python",
      "pygments_lexer": "ipython3",
      "version": "3.9.6"
    },
    "colab": {
      "provenance": []
    }
<<<<<<< HEAD
   ],
   "source": [
    "least_val_loss = float('inf')\n",
    "least_loss_model = None\n",
    "epochs=100\n",
    "for num_nodes in [16, 32, 64]:\n",
    "  for dropout_prob in[0, 0.2]:\n",
    "    for lr in [0.01, 0.005, 0.001]:\n",
    "      for batch_size in [32, 64, 128]:\n",
    "        print(f\"{num_nodes} nodes, dropout {dropout_prob}, lr {lr}, batch size {batch_size}\")\n",
    "        model, history = train_model(X_train, y_train, num_nodes, dropout_prob, lr, batch_size, epochs)\n",
    "        plot_history(history)\n",
    "        val_loss = model.evaluate(X_valid, y_valid)[0]\n",
    "        if val_loss < least_val_loss:\n",
    "          least_val_loss = val_loss\n",
    "          least_loss_model = model"
   ]
  },
  {
   "cell_type": "code",
   "execution_count": 30,
   "id": "4ceca456-89ce-4869-864b-3b9c69f5c7d5",
   "metadata": {},
   "outputs": [
    {
     "name": "stdout",
     "output_type": "stream",
     "text": [
      "119/119 [==============================] - 0s 862us/step\n"
     ]
    },
    {
     "data": {
      "text/plain": [
       "array([[0.86320287],\n",
       "       [0.00562028],\n",
       "       [0.9524248 ],\n",
       "       ...,\n",
       "       [0.79157686],\n",
       "       [0.7000526 ],\n",
       "       [0.9973419 ]], dtype=float32)"
      ]
     },
     "execution_count": 30,
     "metadata": {},
     "output_type": "execute_result"
    }
   ],
   "source": [
    "least_loss_model.predict(X_test)"
   ]
  },
  {
   "cell_type": "code",
   "execution_count": 34,
   "id": "6fff24e7-3bdf-4b4e-b0ef-7718e357dae2",
   "metadata": {},
   "outputs": [
    {
     "name": "stdout",
     "output_type": "stream",
     "text": [
      "119/119 [==============================] - 0s 848us/step\n"
     ]
    },
    {
     "data": {
      "text/plain": [
       "array([1, 0, 1, ..., 1, 1, 1])"
      ]
     },
     "execution_count": 34,
     "metadata": {},
     "output_type": "execute_result"
    }
   ],
   "source": [
    "y_pred = least_loss_model.predict(X_test)\n",
    "y_pred = (y_pred > 0.5).astype(int).reshape(-1)\n",
    "y_pred"
   ]
  },
  {
   "cell_type": "code",
   "execution_count": 35,
   "id": "543620e2-f64b-4cfb-8623-d83bb41f8104",
   "metadata": {},
   "outputs": [
    {
     "name": "stdout",
     "output_type": "stream",
     "text": [
      "              precision    recall  f1-score   support\n",
      "\n",
      "           0       0.88      0.75      0.81      1322\n",
      "           1       0.88      0.95      0.91      2482\n",
      "\n",
      "    accuracy                           0.88      3804\n",
      "   macro avg       0.88      0.85      0.86      3804\n",
      "weighted avg       0.88      0.88      0.88      3804\n",
      "\n"
     ]
    }
   ],
   "source": [
    "print(classification_report(y_test, y_pred))"
   ]
  },
  {
   "cell_type": "code",
   "execution_count": null,
   "id": "6c1f9a08-e371-425a-8f38-da02d60670ff",
   "metadata": {},
   "outputs": [],
   "source": []
  }
 ],
 "metadata": {
  "kernelspec": {
   "display_name": "Python 3 (ipykernel)",
   "language": "python",
   "name": "python3"
=======
>>>>>>> f9413295e430bb197ca8bcda4a023c5d424ebf4c
  },
  "nbformat": 4,
  "nbformat_minor": 5
}