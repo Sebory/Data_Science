{
 "cells": [
  {
   "cell_type": "code",
   "execution_count": 1,
   "id": "81abc7bd-d694-44f8-af67-e63095a601e9",
   "metadata": {},
   "outputs": [],
   "source": [
    "import os\n",
    "os.environ[\"TFF_CPP_MIN_LOG_LEVEL\"] = \"2\"\n",
    "\n",
    "import tensorflow as tf\n",
    "from tensorflow import keras\n",
    "from tensorflow.keras import layers\n",
    "from tensorflow.keras.datasets import mnist"
   ]
  },
  {
   "cell_type": "code",
   "execution_count": 2,
   "id": "b2fc8884-0588-47ff-becb-8e49c0e6a00b",
   "metadata": {},
   "outputs": [],
   "source": [
    "(x_train, y_train) , (x_test, y_test) = mnist.load_data()"
   ]
  },
  {
   "cell_type": "code",
   "execution_count": 3,
   "id": "0ac989fe-3a41-4a47-bfad-36f2f2d46bfc",
   "metadata": {},
   "outputs": [
    {
     "name": "stdout",
     "output_type": "stream",
     "text": [
      "(60000, 28, 28)\n"
     ]
    }
   ],
   "source": [
    "print(x_train.shape)"
   ]
  },
  {
   "cell_type": "code",
   "execution_count": 4,
   "id": "27fb3dd2-ce6f-45d4-b83f-1fa5d97a5ca5",
   "metadata": {},
   "outputs": [],
   "source": [
    "# let flatten x_train\n",
    "x_train = x_train.reshape(-1, 28*28).astype(\"float32\")/255.0\n",
    "x_test = x_test.reshape(-1, 28*28).astype(\"float32\")/255.0"
   ]
  },
  {
   "cell_type": "code",
   "execution_count": 5,
   "id": "1902cc67-e6b0-4b97-9aad-24f23b357869",
   "metadata": {},
   "outputs": [
    {
     "name": "stdout",
     "output_type": "stream",
     "text": [
      "Model: \"sequential\"\n",
      "_________________________________________________________________\n",
      " Layer (type)                Output Shape              Param #   \n",
      "=================================================================\n",
      " dense (Dense)               (None, 512)               401920    \n",
      "                                                                 \n",
      " dense_1 (Dense)             (None, 256)               131328    \n",
      "                                                                 \n",
      " dense_2 (Dense)             (None, 10)                2570      \n",
      "                                                                 \n",
      "=================================================================\n",
      "Total params: 535,818\n",
      "Trainable params: 535,818\n",
      "Non-trainable params: 0\n",
      "_________________________________________________________________\n",
      "None\n"
     ]
    }
   ],
   "source": [
    "# let create model, for that let use sequential API (very convenient but not very flexible). If you have one input and\n",
    "# one output, you have to use sequential model\n",
    "model = keras.Sequential(\n",
    "    [\n",
    "        keras.Input(shape=28*28),\n",
    "        layers.Dense(512, activation=\"relu\"),\n",
    "        layers.Dense(256, activation=\"relu\"),\n",
    "        layers.Dense(10),\n",
    "    ]\n",
    ")\n",
    "\n",
    "print(model.summary())\n",
    "\n",
    "import sys\n",
    "quit()\n"
   ]
  },
  {
   "cell_type": "code",
   "execution_count": 6,
   "id": "4859ae96-184d-4819-95b8-5f49b191452e",
   "metadata": {},
   "outputs": [
    {
     "name": "stdout",
     "output_type": "stream",
     "text": [
      "Epoch 1/5\n",
      "1875/1875 - 18s - loss: 0.1827 - accuracy: 0.9447 - 18s/epoch - 10ms/step\n",
      "Epoch 2/5\n",
      "1875/1875 - 17s - loss: 0.0775 - accuracy: 0.9757 - 17s/epoch - 9ms/step\n",
      "Epoch 3/5\n",
      "1875/1875 - 17s - loss: 0.0539 - accuracy: 0.9832 - 17s/epoch - 9ms/step\n",
      "Epoch 4/5\n",
      "1875/1875 - 17s - loss: 0.0426 - accuracy: 0.9861 - 17s/epoch - 9ms/step\n",
      "Epoch 5/5\n",
      "1875/1875 - 17s - loss: 0.0334 - accuracy: 0.9890 - 17s/epoch - 9ms/step\n",
      "313/313 - 1s - loss: 0.0793 - accuracy: 0.9783 - 658ms/epoch - 2ms/step\n"
     ]
    },
    {
     "data": {
      "text/plain": [
       "[0.07933224737644196, 0.9782999753952026]"
      ]
     },
     "execution_count": 6,
     "metadata": {},
     "output_type": "execute_result"
    }
   ],
   "source": [
    "model.compile(\n",
    "    loss=keras.losses.SparseCategoricalCrossentropy(from_logits=True),\n",
    "    optimizer=keras.optimizers.Adam(learning_rate=0.001),\n",
    "    metrics=[\"accuracy\"],\n",
    ")\n",
    "\n",
    "model.fit(x_train, y_train, batch_size=32, epochs=5, verbose=2)\n",
    "model.evaluate(x_test, y_test, batch_size=32, verbose=2)"
   ]
  },
  {
   "cell_type": "code",
   "execution_count": null,
   "id": "c543ddd6-6948-4401-b808-b978300fec11",
   "metadata": {},
   "outputs": [],
   "source": []
  }
 ],
 "metadata": {
  "kernelspec": {
   "display_name": "Python 3 (ipykernel)",
   "language": "python",
   "name": "python3"
  },
  "language_info": {
   "codemirror_mode": {
    "name": "ipython",
    "version": 3
   },
   "file_extension": ".py",
   "mimetype": "text/x-python",
   "name": "python",
   "nbconvert_exporter": "python",
   "pygments_lexer": "ipython3",
   "version": "3.9.6"
  }
 },
 "nbformat": 4,
 "nbformat_minor": 5
}
